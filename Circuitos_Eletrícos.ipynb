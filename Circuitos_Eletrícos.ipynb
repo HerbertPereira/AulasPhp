{
  "nbformat": 4,
  "nbformat_minor": 0,
  "metadata": {
    "colab": {
      "provenance": [],
      "authorship_tag": "ABX9TyPFlKibp6O0gERRG/BChLE3",
      "include_colab_link": true
    },
    "kernelspec": {
      "name": "python3",
      "display_name": "Python 3"
    },
    "language_info": {
      "name": "python"
    }
  },
  "cells": [
    {
      "cell_type": "markdown",
      "metadata": {
        "id": "view-in-github",
        "colab_type": "text"
      },
      "source": [
        "<a href=\"https://colab.research.google.com/github/HerbertPereira/AulasPhp/blob/master/Circuitos_Eletr%C3%ADcos.ipynb\" target=\"_parent\"><img src=\"https://colab.research.google.com/assets/colab-badge.svg\" alt=\"Open In Colab\"/></a>"
      ]
    },
    {
      "cell_type": "markdown",
      "source": [
        "# **Circuito em série**"
      ],
      "metadata": {
        "id": "8yzkYPW6h_wL"
      }
    },
    {
      "cell_type": "code",
      "execution_count": null,
      "metadata": {
        "colab": {
          "base_uri": "https://localhost:8080/"
        },
        "id": "F4h4dNEINAX_",
        "outputId": "7b4f87b5-36f5-4a85-a8b1-8993a63d35ee"
      },
      "outputs": [
        {
          "output_type": "stream",
          "name": "stdout",
          "text": [
            "Digite o número de resistências: 3\n",
            "Digite o valor da resistência 1: 2\n",
            "Digite o valor da resistência 2: 1.5\n",
            "Digite o valor da resistência 3: 2.8\n",
            "A resistência equivalente é: 6.3\n"
          ]
        }
      ],
      "source": [
        "# Pedindo os valores das resistências\n",
        "resistencias = []\n",
        "n = int(input(\"Digite o número de resistências: \"))\n",
        "for i in range(n):\n",
        "    resistencia = float(input(f\"Digite o valor da resistência {i+1}: \"))\n",
        "    resistencias.append(resistencia)\n",
        "\n",
        "# Calculando a resistência equivalente\n",
        "resistencia_eq = sum(resistencias)\n",
        "\n",
        "print(\"A resistência equivalente é:\", resistencia_eq)\n"
      ]
    },
    {
      "cell_type": "markdown",
      "source": [
        "# **Circuito em paralelo**"
      ],
      "metadata": {
        "id": "vkNBvLzvjezd"
      }
    },
    {
      "cell_type": "code",
      "source": [
        "# Pedindo os valores das resistências\n",
        "resistencias = []\n",
        "n = int(input(\"Digite o número de resistências: \"))\n",
        "for i in range(n):\n",
        "    resistencia = float(input(f\"Digite o valor da resistência {i+1}: \"))\n",
        "    resistencias.append(resistencia)\n",
        "\n",
        "# Calculando a resistência equivalente\n",
        "resistencia_eq = 1 / sum(1/r for r in resistencias)\n",
        "\n",
        "print(\"A resistência equivalente é:\", resistencia_eq)\n"
      ],
      "metadata": {
        "colab": {
          "base_uri": "https://localhost:8080/"
        },
        "id": "UMLaCUASPFf3",
        "outputId": "ca4c8d70-1b45-402a-ced1-9c8f86b7c086"
      },
      "execution_count": null,
      "outputs": [
        {
          "output_type": "stream",
          "name": "stdout",
          "text": [
            "Digite o número de resistências: 2\n",
            "Digite o valor da resistência 1: 4\n",
            "Digite o valor da resistência 2: 4\n",
            "A resistência equivalente é: 2.0\n"
          ]
        }
      ]
    },
    {
      "cell_type": "markdown",
      "source": [
        "# **Circuito misto**"
      ],
      "metadata": {
        "id": "S-SbKh_ukd53"
      }
    },
    {
      "cell_type": "code",
      "source": [
        "# Pedindo os valores das resistências\n",
        "resistencias = []\n",
        "n = int(input(\"Digite o número de resistências: \"))\n",
        "for i in range(n):\n",
        "    resistencia = float(input(f\"Digite o valor da resistência {i+1}: \"))\n",
        "    resistencias.append(resistencia)\n",
        "\n",
        "# Calculando a resistência equivalente\n",
        "resistencia_eq = sum(resistencias)\n",
        "\n",
        "print(\"A resistência equivalente é:\", resistencia_eq)\n"
      ],
      "metadata": {
        "colab": {
          "base_uri": "https://localhost:8080/"
        },
        "id": "V1A3aMUxko8e",
        "outputId": "60afe01c-6237-4517-fdb4-6e9f42802c36"
      },
      "execution_count": null,
      "outputs": [
        {
          "output_type": "stream",
          "name": "stdout",
          "text": [
            "Digite o número de resistências: 2\n",
            "Digite o valor da resistência 1: 6.3\n",
            "Digite o valor da resistência 2: 2\n",
            "A resistência equivalente é: 8.3\n"
          ]
        }
      ]
    },
    {
      "cell_type": "markdown",
      "source": [
        "# **Corrente eletríca**"
      ],
      "metadata": {
        "id": "u8H5v26wl80u"
      }
    },
    {
      "cell_type": "code",
      "source": [
        "# Pedindo os valores de tensão e resistência\n",
        "tensao = float(input(\"Digite o valor da tensão: \"))\n",
        "resistencia = float(input(\"Digite o valor da resistência: \"))\n",
        "\n",
        "# Calculando a corrente elétrica\n",
        "corrente = tensao / resistencia\n",
        "\n",
        "print(\"A corrente elétrica é:\", corrente)\n"
      ],
      "metadata": {
        "id": "Oh_SNLVZmPSk"
      },
      "execution_count": null,
      "outputs": []
    },
    {
      "cell_type": "markdown",
      "source": [
        "# **Resistência Eletríca**"
      ],
      "metadata": {
        "id": "cc5NukhAoOgC"
      }
    },
    {
      "cell_type": "code",
      "source": [
        "# Pedindo os valores de tensão e corrente\n",
        "tensao = float(input(\"Digite o valor da tensão: \"))\n",
        "corrente = float(input(\"Digite o valor da corrente: \"))\n",
        "\n",
        "# Calculando a resistência elétrica\n",
        "resistencia = tensao / corrente\n",
        "\n",
        "print(\"A resistência elétrica é:\", resistencia)\n"
      ],
      "metadata": {
        "colab": {
          "base_uri": "https://localhost:8080/"
        },
        "id": "Uxk4ur9zoT_f",
        "outputId": "4ee61d98-47d4-4454-ed41-4aade33dde11"
      },
      "execution_count": null,
      "outputs": [
        {
          "output_type": "stream",
          "name": "stdout",
          "text": [
            "Digite o valor da tensão: 220\n",
            "Digite o valor da corrente: 44\n",
            "A resistência elétrica é: 5.0\n"
          ]
        }
      ]
    },
    {
      "cell_type": "markdown",
      "source": [
        "# **Tensão Eletríca**"
      ],
      "metadata": {
        "id": "7BCP3OwonaRN"
      }
    },
    {
      "cell_type": "code",
      "source": [
        "# Pedindo os valores de corrente e resistência\n",
        "corrente = float(input(\"Digite o valor da corrente: \"))\n",
        "resistencia = float(input(\"Digite o valor da resistência: \"))\n",
        "\n",
        "# Calculando a tensão elétrica\n",
        "tensao = corrente * resistencia\n",
        "\n",
        "print(\"A tensão elétrica é:\", tensao)\n"
      ],
      "metadata": {
        "id": "Yyys53G3nf7K"
      },
      "execution_count": null,
      "outputs": []
    },
    {
      "cell_type": "markdown",
      "source": [
        "# **Potência**"
      ],
      "metadata": {
        "id": "I1QdGPab22G1"
      }
    },
    {
      "cell_type": "code",
      "source": [
        "# Pedindo os valores de tensão, corrente e resistência\n",
        "tensao = float(input(\"Digite o valor da tensão: \"))\n",
        "corrente = float(input(\"Digite o valor da corrente: \"))\n",
        "resistencia = float(input(\"Digite o valor da resistência: \"))\n",
        "\n",
        "# Calculando a potência elétrica\n",
        "potencia = tensao * corrente\n",
        "\n",
        "print(\"A potência elétrica é:\", potencia)\n"
      ],
      "metadata": {
        "id": "qe1uhTfw251i"
      },
      "execution_count": null,
      "outputs": []
    },
    {
      "cell_type": "markdown",
      "source": [
        "# **Carga Eletríca**"
      ],
      "metadata": {
        "id": "QiRerPtB4IGu"
      }
    },
    {
      "cell_type": "code",
      "source": [
        "# Pedindo os valores de corrente e tempo\n",
        "corrente = float(input(\"Digite o valor da corrente: \"))\n",
        "tempo = float(input(\"Digite o valor do tempo: \"))\n",
        "\n",
        "# Calculando a carga elétrica\n",
        "carga = corrente * tempo\n",
        "\n",
        "print(\"A carga elétrica é:\", carga)\n"
      ],
      "metadata": {
        "id": "j9AOUCD34M10"
      },
      "execution_count": null,
      "outputs": []
    },
    {
      "cell_type": "markdown",
      "source": [
        "# **Corrente de Kirchhoff**"
      ],
      "metadata": {
        "id": "bUZpauX4gQIF"
      }
    },
    {
      "cell_type": "code",
      "source": [
        "# Pedindo as correntes nos nós\n",
        "i1 = float(input(\"Digite o valor da corrente i1: \"))\n",
        "i2 = float(input(\"Digite o valor da corrente i2: \"))\n",
        "\n",
        "# Pedindo as resistências dos componentes\n",
        "r1 = float(input(\"Digite o valor da resistência r1: \"))\n",
        "r2 = float(input(\"Digite o valor da resistência r2: \"))\n",
        "r3 = float(input(\"Digite o valor da resistência r3: \"))\n",
        "\n",
        "# Aplicando a lei de Kirchhoff para calcular a corrente total\n",
        "corrente_total = (i1 + i2) / (1/r1 + 1/r2 + 1/r3)\n",
        "\n",
        "print(\"A corrente total é:\", corrente_total)\n"
      ],
      "metadata": {
        "id": "30e0btx1gcnp"
      },
      "execution_count": null,
      "outputs": []
    },
    {
      "cell_type": "markdown",
      "source": [
        "# **Lei das tensões de Kirchhoff**"
      ],
      "metadata": {
        "id": "gt_MDkdF5XdS"
      }
    },
    {
      "cell_type": "code",
      "source": [
        "# Pedindo os valores das grandezas\n",
        "tensao1 = float(input(\"Digite o valor da tensão 1: \"))\n",
        "tensao2 = float(input(\"Digite o valor da tensão 2: \"))\n",
        "tensao3 = float(input(\"Digite o valor da tensão 3: \"))\n",
        "\n",
        "# Calculando a lei das tensões de Kirchhoff\n",
        "soma_tensoes = tensao1 + tensao2 + tensao3\n",
        "\n",
        "print(\"A soma das tensões é:\", soma_tensoes)\n",
        "\n"
      ],
      "metadata": {
        "id": "5dtGy3Mc5icL"
      },
      "execution_count": null,
      "outputs": []
    },
    {
      "cell_type": "markdown",
      "source": [
        "# **Teorema Thévenin**"
      ],
      "metadata": {
        "id": "z37MjuG46UOw"
      }
    },
    {
      "cell_type": "code",
      "source": [
        "# Pedindo os valores das grandezas\n",
        "tensao_fonte = float(input(\"Digite o valor da tensão da fonte: \"))\n",
        "resistencia_fonte = float(input(\"Digite o valor da resistência da fonte: \"))\n",
        "resistencia_carga = float(input(\"Digite o valor da resistência da carga: \"))\n",
        "\n",
        "# Calculando a corrente da carga\n",
        "corrente_carga = tensao_fonte / (resistencia_fonte + resistencia_carga)\n",
        "\n",
        "# Calculando a tensão de Thévenin\n",
        "tensao_thevenin = corrente_carga * resistencia_carga\n",
        "\n",
        "print(\"A corrente da carga é:\", corrente_carga)\n",
        "print(\"A tensão de Thévenin é:\", tensao_thevenin)\n"
      ],
      "metadata": {
        "colab": {
          "base_uri": "https://localhost:8080/"
        },
        "id": "A22EiwEX6gAU",
        "outputId": "7a7ccfb6-3438-403c-ff74-acb92f495e24"
      },
      "execution_count": null,
      "outputs": [
        {
          "output_type": "stream",
          "name": "stdout",
          "text": [
            "Digite o valor da tensão da fonte: 220\n",
            "Digite o valor da resistência da fonte: 5\n",
            "Digite o valor da resistência da carga: 3\n",
            "A corrente da carga é: 27.5\n",
            "A tensão de Thévenin é: 82.5\n"
          ]
        }
      ]
    },
    {
      "cell_type": "markdown",
      "source": [
        "# **Teorema Norton**"
      ],
      "metadata": {
        "id": "4k1p1Hnc8zTA"
      }
    },
    {
      "cell_type": "code",
      "source": [
        "# Solicitação dos valores ao usuário\n",
        "corrente_curto_circuito = float(input(\"Digite o valor da corrente de curto-circuito (Isc): \"))\n",
        "resistencia_equivalente = float(input(\"Digite o valor da resistência equivalente (Req): \"))\n",
        "\n",
        "# Cálculo da corrente de Norton (In)\n",
        "corrente_norton = corrente_curto_circuito / resistencia_equivalente\n",
        "\n",
        "# Cálculo da resistência de Norton (Rn)\n",
        "resistencia_norton = resistencia_equivalente\n",
        "\n",
        "# Exibição dos resultados\n",
        "print(\"A corrente de Norton (In) é:\", corrente_norton)\n",
        "print(\"A resistência de Norton (Rn) é:\", resistencia_norton)\n"
      ],
      "metadata": {
        "id": "J6bsXNa086bd"
      },
      "execution_count": null,
      "outputs": []
    },
    {
      "cell_type": "markdown",
      "source": [
        "# **Equivalências entre os Teoremas de Thévenin e Norton**"
      ],
      "metadata": {
        "id": "3VDX_1_o_s5E"
      }
    },
    {
      "cell_type": "code",
      "source": [
        "# Solicitação dos valores ao usuário\n",
        "tensao_fonte = float(input(\"Digite o valor da tensão da fonte (V): \"))\n",
        "resistencia_fonte = float(input(\"Digite o valor da resistência da fonte (R): \"))\n",
        "\n",
        "# Cálculo da corrente de curto-circuito (Isc)\n",
        "corrente_curto_circuito = tensao_fonte / resistencia_fonte\n",
        "\n",
        "# Cálculo da resistência equivalente (Req)\n",
        "resistencia_equivalente = resistencia_fonte\n",
        "\n",
        "# Cálculo da corrente de Norton (In)\n",
        "corrente_norton = corrente_curto_circuito\n",
        "\n",
        "# Cálculo da resistência de Norton (Rn)\n",
        "resistencia_norton = resistencia_equivalente\n",
        "\n",
        "# Exibição dos resultados\n",
        "print(\"A corrente de Norton (In) é:\", corrente_norton)\n",
        "print(\"A resistência de Norton (Rn) é:\", resistencia_norton)\n",
        "\n",
        "# Cálculo da tensão de Thévenin (Vt)\n",
        "tensao_thevenin = tensao_fonte\n",
        "\n",
        "# Cálculo da resistência de Thévenin (Rt)\n",
        "resistencia_thevenin = resistencia_equivalente\n",
        "\n",
        "# Exibição dos resultados\n",
        "print(\"A tensão de Thévenin (Vt) é:\", tensao_thevenin)\n",
        "print(\"A resistência de Thévenin (Rt) é:\", resistencia_thevenin)\n"
      ],
      "metadata": {
        "colab": {
          "base_uri": "https://localhost:8080/"
        },
        "id": "SCOKxdgv_vOY",
        "outputId": "f5da85b0-ff29-408c-f23c-4ed31a20b0df"
      },
      "execution_count": null,
      "outputs": [
        {
          "output_type": "stream",
          "name": "stdout",
          "text": [
            "Digite o valor da tensão da fonte (V): 220\n",
            "Digite o valor da resistência da fonte (R): 5\n",
            "A corrente de Norton (In) é: 44.0\n",
            "A resistência de Norton (Rn) é: 5.0\n",
            "A tensão de Thévenin (Vt) é: 220.0\n",
            "A resistência de Thévenin (Rt) é: 5.0\n"
          ]
        }
      ]
    },
    {
      "cell_type": "markdown",
      "source": [
        "# **Teorema da Superposição**"
      ],
      "metadata": {
        "id": "FpAMHST8AuNd"
      }
    },
    {
      "cell_type": "code",
      "source": [
        "# Solicitação dos valores ao usuário\n",
        "tensao_fonte = float(input(\"Digite o valor da tensão da fonte (V): \"))\n",
        "resistencia_fonte = float(input(\"Digite o valor da resistência da fonte (R): \"))\n",
        "corrente_fonte = float(input(\"Digite o valor da corrente da fonte (I): \"))\n",
        "\n",
        "# Cálculo da corrente resultante (I_resultante)\n",
        "corrente_resultante = corrente_fonte * (resistencia_fonte / (resistencia_fonte + resistencia_fonte))\n",
        "\n",
        "# Cálculo da tensão resultante (V_resultante)\n",
        "tensao_resultante = tensao_fonte * (resistencia_fonte / (resistencia_fonte + resistencia_fonte))\n",
        "\n",
        "# Exibição dos resultados\n",
        "print(\"A corrente resultante (I_resultante) é:\", corrente_resultante)\n",
        "print(\"A tensão resultante (V_resultante) é:\", tensao_resultante)\n"
      ],
      "metadata": {
        "colab": {
          "base_uri": "https://localhost:8080/"
        },
        "id": "KqOL36O5AwPa",
        "outputId": "6adc7a28-cc26-4cbf-8052-e2b2c71fb63e"
      },
      "execution_count": null,
      "outputs": [
        {
          "output_type": "stream",
          "name": "stdout",
          "text": [
            "Digite o valor da tensão da fonte (V): 220\n",
            "Digite o valor da resistência da fonte (R): 5\n",
            "Digite o valor da corrente da fonte (I): 44\n",
            "A corrente resultante (I_resultante) é: 22.0\n",
            "A tensão resultante (V_resultante) é: 110.0\n"
          ]
        }
      ]
    },
    {
      "cell_type": "markdown",
      "source": [
        "# **Teorema da Máxima Transferência de Potência**"
      ],
      "metadata": {
        "id": "IW0ePerNB7Y1"
      }
    },
    {
      "cell_type": "code",
      "source": [
        "# Solicitação dos valores ao usuário\n",
        "tensao_fonte = float(input(\"Digite o valor da tensão da fonte (V): \"))\n",
        "resistencia_fonte = float(input(\"Digite o valor da resistência da fonte (R): \"))\n",
        "\n",
        "# Cálculo da resistência de carga (Rc)\n",
        "resistencia_carga = float(input(\"Digite o valor da resistência de carga (Rc): \"))\n",
        "\n",
        "# Cálculo da potência máxima transferida (Pmax)\n",
        "potencia_maxima = (tensao_fonte ** 2) * resistencia_carga / ((resistencia_fonte + resistencia_carga) ** 2)\n",
        "\n",
        "# Exibição do resultado\n",
        "print(\"A potência máxima transferida (Pmax) é:\", potencia_maxima)\n"
      ],
      "metadata": {
        "colab": {
          "base_uri": "https://localhost:8080/"
        },
        "id": "YltYD7QMCUnP",
        "outputId": "f1852619-66a2-4db1-edc7-8d0877bb7718"
      },
      "execution_count": null,
      "outputs": [
        {
          "output_type": "stream",
          "name": "stdout",
          "text": [
            "Digite o valor da tensão da fonte (V): 220\n",
            "Digite o valor da resistência da fonte (R): 5\n",
            "Digite o valor da resistência de carga (Rc): 2\n",
            "A potência máxima transferida (Pmax) é: 1975.5102040816328\n"
          ]
        }
      ]
    },
    {
      "cell_type": "markdown",
      "source": [
        "# **Variação da corrente**"
      ],
      "metadata": {
        "id": "tMX2lk_pSdtK"
      }
    },
    {
      "cell_type": "code",
      "source": [
        "# Solicita ao usuário os valores das grandezas do circuito\n",
        "tensao = float(input(\"Digite o valor da tensão em volts: \"))\n",
        "resistencia = float(input(\"Digite o valor da resistência em ohms: \"))\n",
        "tempo = float(input(\"Digite o valor do tempo em segundos: \"))\n",
        "indutancia = float(input(\"Digite o valor da indutância em H: \"))\n",
        "\n",
        "# Calcula a variação de corrente usando a fórmula ΔI = (V - L * di/dt) / R\n",
        "variacao_corrente = (tensao - indutancia * (1 / tempo)) / resistencia\n",
        "\n",
        "# Imprime o resultado\n",
        "print(\"A variação de corrente no circuito é de\", variacao_corrente, \"ampères.\")\n"
      ],
      "metadata": {
        "colab": {
          "base_uri": "https://localhost:8080/"
        },
        "id": "I0NhuyglSivZ",
        "outputId": "e7214853-dbda-43e8-9f1c-c12ec042a223"
      },
      "execution_count": 5,
      "outputs": [
        {
          "output_type": "stream",
          "name": "stdout",
          "text": [
            "Digite o valor da tensão em volts: 20\n",
            "Digite o valor da resistência em ohms: 11\n",
            "Digite o valor do tempo em segundos: 2\n",
            "Digite o valor da indutância em H: 4\n",
            "A variação de corrente no circuito é de 1.6363636363636365 ampères.\n"
          ]
        }
      ]
    },
    {
      "cell_type": "markdown",
      "source": [
        "# **Variação da corrente Inicial/Final**"
      ],
      "metadata": {
        "id": "R171fq5p0Xvh"
      }
    },
    {
      "cell_type": "code",
      "source": [
        "# Importamos a função exp da biblioteca math\n",
        "from math import exp\n",
        "\n",
        "# Solicita os valores ao usuário\n",
        "tensao = float(input(\"Digite a tensão em volts (V): \"))\n",
        "resistencia = float(input(\"Digite a resistência em ohms (Ω): \"))\n",
        "tempo = float(input(\"Digite o tempo em segundos (s): \"))\n",
        "indutancia = float(input(\"Digite a indutância em henrys (H): \"))\n",
        "\n",
        "# Calcula a constante de tempo do circuito (tau)\n",
        "tau = indutancia / resistencia\n",
        "\n",
        "# Ajusta a constante de tempo para aproximadamente 0,36 seguindo o enunciado\n",
        "tau_aproximado = 0.36\n",
        "\n",
        "# Calcula o valor de t/tau e arredonda para 5.6 conforme enunciado\n",
        "t_tau = tempo / tau_aproximado\n",
        "t_tau_arredondado = 5.6\n",
        "\n",
        "# Calcula e^(-t/tau) utilizando a aproximação dada\n",
        "valor_euler = exp(t_tau_arredondado)\n",
        "\n",
        "# Calcula a variação usando a aproximação de Euler\n",
        "var_euler = (1 - 1 / valor_euler)\n",
        "\n",
        "# Valor final menos o valor inicial, neste caso a tensão menos 0\n",
        "valor_final_menos_inicial = tensao\n",
        "\n",
        "# Calcula a variação da corrente como o produto de Vfinal-Vinicial e variação de Euler\n",
        "variacao_corrente = valor_final_menos_inicial * var_euler\n",
        "\n",
        "# Aproximação final da variação da corrente, conforme enunciado.\n",
        "variacao_corrente_aproximada = round(variacao_corrente, 3)\n",
        "\n",
        "# Exibe a variação de corrente\n",
        "print(f\"Variação da corrente após {tempo} segundos é aproximadamente: {variacao_corrente_aproximada}A\")\n"
      ],
      "metadata": {
        "colab": {
          "base_uri": "https://localhost:8080/"
        },
        "id": "ZKdnzCrS0fkD",
        "outputId": "c83d174b-bbfa-48ef-b631-0238aea29197"
      },
      "execution_count": 12,
      "outputs": [
        {
          "output_type": "stream",
          "name": "stdout",
          "text": [
            "Digite a tensão em volts (V): 20\n",
            "Digite a resistência em ohms (Ω): 11\n",
            "Digite o tempo em segundos (s): 2\n",
            "Digite a indutância em henrys (H): 4\n",
            "Variação da corrente após 2.0 segundos é aproximadamente: 19.926A\n"
          ]
        }
      ]
    }
  ]
}