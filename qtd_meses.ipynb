{
  "nbformat": 4,
  "nbformat_minor": 0,
  "metadata": {
    "colab": {
      "provenance": [],
      "authorship_tag": "ABX9TyMPSW3Id7KWyzB35Ayjj5DH",
      "include_colab_link": true
    },
    "kernelspec": {
      "name": "python3",
      "display_name": "Python 3"
    },
    "language_info": {
      "name": "python"
    }
  },
  "cells": [
    {
      "cell_type": "markdown",
      "metadata": {
        "id": "view-in-github",
        "colab_type": "text"
      },
      "source": [
        "<a href=\"https://colab.research.google.com/github/HerbertPereira/AulasPhp/blob/master/qtd_meses.ipynb\" target=\"_parent\"><img src=\"https://colab.research.google.com/assets/colab-badge.svg\" alt=\"Open In Colab\"/></a>"
      ]
    },
    {
      "cell_type": "code",
      "execution_count": null,
      "metadata": {
        "colab": {
          "base_uri": "https://localhost:8080/"
        },
        "id": "ZhPkI5Q3oXMh",
        "outputId": "c8ef1b54-8f46-4e9f-a2a6-d32eba0fad7a"
      },
      "outputs": [
        {
          "name": "stdout",
          "output_type": "stream",
          "text": [
            "Digite a data inicial (mm/aaaa): 08/2021\n",
            "Digite a data final (mm/aaaa): 03/2024\n"
          ]
        }
      ],
      "source": [
        "from datetime import datetime\n",
        "\n",
        "def calcular_quantidade_meses(data_inicial, data_final):\n",
        "    data_inicial = datetime.strptime(data_inicial, \"%m/%Y\")\n",
        "    data_final = datetime.strptime(data_final, \"%m/%Y\")\n",
        "\n",
        "    quantidade_meses = (data_final.year - data_inicial.year) * 12 + (data_final.month - data_inicial.month)\n",
        "\n",
        "    return quantidade_meses\n",
        "\n",
        "data_inicial = input(\"Digite a data inicial (mm/aaaa): \")\n",
        "data_final = input(\"Digite a data final (mm/aaaa): \")\n",
        "\n",
        "quantidade_meses = calcular_quantidade_meses(data_inicial, data_final)\n",
        "print(\"A quantidade de meses entre as datas é:\", quantidade_meses)"
      ]
    }
  ]
}